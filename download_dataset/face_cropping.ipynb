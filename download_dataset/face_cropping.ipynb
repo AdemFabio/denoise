{
 "cells": [
  {
   "cell_type": "code",
   "execution_count": 1,
   "metadata": {},
   "outputs": [],
   "source": [
    "\n",
    "import pandas as pd\n",
    "from pathlib import Path\n",
    "from typing import List, Tuple\n",
    "import numpy as np\n",
    "import skvideo.io  \n",
    "\n",
    "\n",
    "from video_download import download_partial_video_from_youtube\n",
    "\n"
   ]
  },
  {
   "cell_type": "code",
   "execution_count": 2,
   "metadata": {},
   "outputs": [],
   "source": [
    "path = Path(\"../data/\")"
   ]
  },
  {
   "cell_type": "code",
   "execution_count": 3,
   "metadata": {},
   "outputs": [],
   "source": [
    "path.mkdir(exist_ok=True)"
   ]
  },
  {
   "cell_type": "code",
   "execution_count": 4,
   "metadata": {},
   "outputs": [],
   "source": [
    "df_train = pd.read_csv(path/\"avspeech_train.csv\", names=[\"id\", \"start\", \"end\", \"x_center\", \"y_center\"], header=None)"
   ]
  },
  {
   "cell_type": "code",
   "execution_count": 5,
   "metadata": {},
   "outputs": [
    {
     "data": {
      "text/html": [
       "<div>\n",
       "<style scoped>\n",
       "    .dataframe tbody tr th:only-of-type {\n",
       "        vertical-align: middle;\n",
       "    }\n",
       "\n",
       "    .dataframe tbody tr th {\n",
       "        vertical-align: top;\n",
       "    }\n",
       "\n",
       "    .dataframe thead th {\n",
       "        text-align: right;\n",
       "    }\n",
       "</style>\n",
       "<table border=\"1\" class=\"dataframe\">\n",
       "  <thead>\n",
       "    <tr style=\"text-align: right;\">\n",
       "      <th></th>\n",
       "      <th>id</th>\n",
       "      <th>start</th>\n",
       "      <th>end</th>\n",
       "      <th>x_center</th>\n",
       "      <th>y_center</th>\n",
       "    </tr>\n",
       "  </thead>\n",
       "  <tbody>\n",
       "    <tr>\n",
       "      <th>0</th>\n",
       "      <td>CJoOwXcjhds</td>\n",
       "      <td>233.266000</td>\n",
       "      <td>239.367000</td>\n",
       "      <td>0.780469</td>\n",
       "      <td>0.670833</td>\n",
       "    </tr>\n",
       "    <tr>\n",
       "      <th>1</th>\n",
       "      <td>AvWWVOgaMlk</td>\n",
       "      <td>90.000000</td>\n",
       "      <td>93.566667</td>\n",
       "      <td>0.586719</td>\n",
       "      <td>0.311111</td>\n",
       "    </tr>\n",
       "    <tr>\n",
       "      <th>2</th>\n",
       "      <td>Y8HMIm8mdns</td>\n",
       "      <td>171.607767</td>\n",
       "      <td>174.607767</td>\n",
       "      <td>0.505729</td>\n",
       "      <td>0.240741</td>\n",
       "    </tr>\n",
       "    <tr>\n",
       "      <th>3</th>\n",
       "      <td>akwvpAiLFk0</td>\n",
       "      <td>144.680000</td>\n",
       "      <td>150.000000</td>\n",
       "      <td>0.698438</td>\n",
       "      <td>0.288889</td>\n",
       "    </tr>\n",
       "    <tr>\n",
       "      <th>4</th>\n",
       "      <td>Swss72CHSWg</td>\n",
       "      <td>90.023267</td>\n",
       "      <td>97.297200</td>\n",
       "      <td>0.230729</td>\n",
       "      <td>0.204630</td>\n",
       "    </tr>\n",
       "  </tbody>\n",
       "</table>\n",
       "</div>"
      ],
      "text/plain": [
       "            id       start         end  x_center  y_center\n",
       "0  CJoOwXcjhds  233.266000  239.367000  0.780469  0.670833\n",
       "1  AvWWVOgaMlk   90.000000   93.566667  0.586719  0.311111\n",
       "2  Y8HMIm8mdns  171.607767  174.607767  0.505729  0.240741\n",
       "3  akwvpAiLFk0  144.680000  150.000000  0.698438  0.288889\n",
       "4  Swss72CHSWg   90.023267   97.297200  0.230729  0.204630"
      ]
     },
     "execution_count": 5,
     "metadata": {},
     "output_type": "execute_result"
    }
   ],
   "source": [
    "df_train.head()"
   ]
  },
  {
   "cell_type": "code",
   "execution_count": 8,
   "metadata": {},
   "outputs": [
    {
     "name": "stdout",
     "output_type": "stream",
     "text": [
      "Could not download Video! (Return code was not 0)\n",
      "Could not download Video! (Return code was not 0)\n",
      "Could not download Video! (Return code was not 0)\n",
      "Could not get audio and video URL! (Return code was not 0)\n",
      "Could not get audio and video URL! (Return code was not 0)\n",
      "Could not get audio and video URL! (Return code was not 0)\n",
      "Could not get audio and video URL! (Return code was not 0)\n",
      "Could not download Video! (Return code was not 0)\n",
      "Could not get audio and video URL! (Return code was not 0)\n",
      "Could not download Video! (Return code was not 0)\n",
      "Could not download Video! (Return code was not 0)\n",
      "Could not get audio and video URL! (Return code was not 0)\n",
      "Could not get audio and video URL! (Return code was not 0)\n",
      "Could not download Video! (Return code was not 0)\n",
      "Could not get audio and video URL! (Return code was not 0)\n",
      "../data/f_a0mqZ3cu8.mp4 already exists!\n",
      "Could not get audio and video URL! (Return code was not 0)\n",
      "Could not download Video! (Return code was not 0)\n",
      "Could not download Video! (Return code was not 0)\n",
      "Could not get audio and video URL! (Return code was not 0)\n",
      "Could not download Video! (Return code was not 0)\n",
      "Could not get audio and video URL! (Return code was not 0)\n",
      "Could not download Video! (Return code was not 0)\n",
      "Could not download Video! (Return code was not 0)\n",
      "Could not get audio and video URL! (Return code was not 0)\n",
      "Could not download Video! (Return code was not 0)\n",
      "Could not download Video! (Return code was not 0)\n",
      "Could not download Video! (Return code was not 0)\n",
      "Could not get audio and video URL! (Return code was not 0)\n",
      "Could not get audio and video URL! (Return code was not 0)\n",
      "Could not get audio and video URL! (Return code was not 0)\n",
      "Could not download Video! (Return code was not 0)\n",
      "Could not get audio and video URL! (Return code was not 0)\n",
      "Could not download Video! (Return code was not 0)\n",
      "Could not get audio and video URL! (Return code was not 0)\n",
      "Could not download Video! (Return code was not 0)\n",
      "Could not get audio and video URL! (Return code was not 0)\n",
      "Could not get audio and video URL! (Return code was not 0)\n",
      "../data/DLQyGVlm7mw.mp4 already exists!\n",
      "../data/swV_7wUBUt0.mp4 already exists!\n",
      "Could not get audio and video URL! (Return code was not 0)\n",
      "Could not get audio and video URL! (Return code was not 0)\n",
      "Could not download Video! (Return code was not 0)\n",
      "Could not get audio and video URL! (Return code was not 0)\n",
      "Could not get audio and video URL! (Return code was not 0)\n",
      "Could not download Video! (Return code was not 0)\n",
      "../data/CwyJlpgt4DI.mp4 already exists!\n",
      "Could not download Video! (Return code was not 0)\n"
     ]
    },
    {
     "ename": "NameError",
     "evalue": "name 'TimeoutExpired' is not defined",
     "output_type": "error",
     "traceback": [
      "\u001b[0;31m---------------------------------------------------------------------------\u001b[0m",
      "\u001b[0;31mTimeoutExpired\u001b[0m                            Traceback (most recent call last)",
      "\u001b[0;32m//anaconda3/envs/fastai/lib/python3.7/subprocess.py\u001b[0m in \u001b[0;36mrun\u001b[0;34m(input, capture_output, timeout, check, *popenargs, **kwargs)\u001b[0m\n\u001b[1;32m    473\u001b[0m         \u001b[0;32mtry\u001b[0m\u001b[0;34m:\u001b[0m\u001b[0;34m\u001b[0m\u001b[0;34m\u001b[0m\u001b[0m\n\u001b[0;32m--> 474\u001b[0;31m             \u001b[0mstdout\u001b[0m\u001b[0;34m,\u001b[0m \u001b[0mstderr\u001b[0m \u001b[0;34m=\u001b[0m \u001b[0mprocess\u001b[0m\u001b[0;34m.\u001b[0m\u001b[0mcommunicate\u001b[0m\u001b[0;34m(\u001b[0m\u001b[0minput\u001b[0m\u001b[0;34m,\u001b[0m \u001b[0mtimeout\u001b[0m\u001b[0;34m=\u001b[0m\u001b[0mtimeout\u001b[0m\u001b[0;34m)\u001b[0m\u001b[0;34m\u001b[0m\u001b[0;34m\u001b[0m\u001b[0m\n\u001b[0m\u001b[1;32m    475\u001b[0m         \u001b[0;32mexcept\u001b[0m \u001b[0mTimeoutExpired\u001b[0m\u001b[0;34m:\u001b[0m\u001b[0;34m\u001b[0m\u001b[0;34m\u001b[0m\u001b[0m\n",
      "\u001b[0;32m//anaconda3/envs/fastai/lib/python3.7/subprocess.py\u001b[0m in \u001b[0;36mcommunicate\u001b[0;34m(self, input, timeout)\u001b[0m\n\u001b[1;32m    938\u001b[0m             \u001b[0;32mtry\u001b[0m\u001b[0;34m:\u001b[0m\u001b[0;34m\u001b[0m\u001b[0;34m\u001b[0m\u001b[0m\n\u001b[0;32m--> 939\u001b[0;31m                 \u001b[0mstdout\u001b[0m\u001b[0;34m,\u001b[0m \u001b[0mstderr\u001b[0m \u001b[0;34m=\u001b[0m \u001b[0mself\u001b[0m\u001b[0;34m.\u001b[0m\u001b[0m_communicate\u001b[0m\u001b[0;34m(\u001b[0m\u001b[0minput\u001b[0m\u001b[0;34m,\u001b[0m \u001b[0mendtime\u001b[0m\u001b[0;34m,\u001b[0m \u001b[0mtimeout\u001b[0m\u001b[0;34m)\u001b[0m\u001b[0;34m\u001b[0m\u001b[0;34m\u001b[0m\u001b[0m\n\u001b[0m\u001b[1;32m    940\u001b[0m             \u001b[0;32mexcept\u001b[0m \u001b[0mKeyboardInterrupt\u001b[0m\u001b[0;34m:\u001b[0m\u001b[0;34m\u001b[0m\u001b[0;34m\u001b[0m\u001b[0m\n",
      "\u001b[0;32m//anaconda3/envs/fastai/lib/python3.7/subprocess.py\u001b[0m in \u001b[0;36m_communicate\u001b[0;34m(self, input, endtime, orig_timeout)\u001b[0m\n\u001b[1;32m   1681\u001b[0m                     \u001b[0mready\u001b[0m \u001b[0;34m=\u001b[0m \u001b[0mselector\u001b[0m\u001b[0;34m.\u001b[0m\u001b[0mselect\u001b[0m\u001b[0;34m(\u001b[0m\u001b[0mtimeout\u001b[0m\u001b[0;34m)\u001b[0m\u001b[0;34m\u001b[0m\u001b[0;34m\u001b[0m\u001b[0m\n\u001b[0;32m-> 1682\u001b[0;31m                     \u001b[0mself\u001b[0m\u001b[0;34m.\u001b[0m\u001b[0m_check_timeout\u001b[0m\u001b[0;34m(\u001b[0m\u001b[0mendtime\u001b[0m\u001b[0;34m,\u001b[0m \u001b[0morig_timeout\u001b[0m\u001b[0;34m)\u001b[0m\u001b[0;34m\u001b[0m\u001b[0;34m\u001b[0m\u001b[0m\n\u001b[0m\u001b[1;32m   1683\u001b[0m \u001b[0;34m\u001b[0m\u001b[0m\n",
      "\u001b[0;32m//anaconda3/envs/fastai/lib/python3.7/subprocess.py\u001b[0m in \u001b[0;36m_check_timeout\u001b[0;34m(self, endtime, orig_timeout)\u001b[0m\n\u001b[1;32m    981\u001b[0m         \u001b[0;32mif\u001b[0m \u001b[0m_time\u001b[0m\u001b[0;34m(\u001b[0m\u001b[0;34m)\u001b[0m \u001b[0;34m>\u001b[0m \u001b[0mendtime\u001b[0m\u001b[0;34m:\u001b[0m\u001b[0;34m\u001b[0m\u001b[0;34m\u001b[0m\u001b[0m\n\u001b[0;32m--> 982\u001b[0;31m             \u001b[0;32mraise\u001b[0m \u001b[0mTimeoutExpired\u001b[0m\u001b[0;34m(\u001b[0m\u001b[0mself\u001b[0m\u001b[0;34m.\u001b[0m\u001b[0margs\u001b[0m\u001b[0;34m,\u001b[0m \u001b[0morig_timeout\u001b[0m\u001b[0;34m)\u001b[0m\u001b[0;34m\u001b[0m\u001b[0;34m\u001b[0m\u001b[0m\n\u001b[0m\u001b[1;32m    983\u001b[0m \u001b[0;34m\u001b[0m\u001b[0m\n",
      "\u001b[0;31mTimeoutExpired\u001b[0m: Command 'ffmpeg -ss 0:04:52.666667 -i \"https://r4---sn-25glenes.googlevideo.com/videoplayback?expire=1591229052&ei=HObXXpHzLI6n1gL8tb6gBQ&ip=91.64.210.211&id=o-ACHzhZp1bhIV2K2_dv3hFrGVKj-M9_9mj1AivfCqWUP6&itag=135&aitags=133%2C134%2C135%2C136%2C160%2C242%2C243%2C244%2C247%2C278&source=youtube&requiressl=yes&mh=sg&mm=31%2C29&mn=sn-25glenes%2Csn-4g5e6nsz&ms=au%2Crdu&mv=m&mvi=3&pl=24&initcwndbps=1202500&vprv=1&mime=video%2Fmp4&gir=yes&clen=34014874&dur=427.633&lmt=1380326038197013&mt=1591207420&fvip=4&keepalive=yes&c=WEB&sparams=expire%2Cei%2Cip%2Cid%2Caitags%2Csource%2Crequiressl%2Cvprv%2Cmime%2Cgir%2Cclen%2Cdur%2Clmt&sig=AOq0QJ8wRQIgezEy1TEERU3ZYEvFpkUJ3EQYV-3z-QRKHTVJO0wUExkCIQCp5elaXyJGMtfShV91Z66NNxahnh0lVdmvyUl3l7O8-A%3D%3D&lsparams=mh%2Cmm%2Cmn%2Cms%2Cmv%2Cmvi%2Cpl%2Cinitcwndbps&lsig=AG3C_xAwRQIgFEtWMtMn4RttWhX1msnfx1VxORGZL_jUqNYQ7017IBICIQD0TFJBoqqNhRWV9tlMvPuvwdr6Fy6tNIuU0Z546DmSmA%3D%3D&ratebypass=yes\" -map 0:v -t 0:00:03 -c:v libx264 ../data/k0N4ajzmyEA.mp4' timed out after 10 seconds",
      "\nDuring handling of the above exception, another exception occurred:\n",
      "\u001b[0;31mTimeoutExpired\u001b[0m                            Traceback (most recent call last)",
      "\u001b[0;32m<ipython-input-8-2272c3d69729>\u001b[0m in \u001b[0;36m<module>\u001b[0;34m\u001b[0m\n\u001b[1;32m      4\u001b[0m     \u001b[0;32mtry\u001b[0m\u001b[0;34m:\u001b[0m\u001b[0;34m\u001b[0m\u001b[0;34m\u001b[0m\u001b[0m\n\u001b[0;32m----> 5\u001b[0;31m         \u001b[0mdownload_partial_video_from_youtube\u001b[0m\u001b[0;34m(\u001b[0m\u001b[0mstr\u001b[0m\u001b[0;34m(\u001b[0m\u001b[0mpath\u001b[0m\u001b[0;34m)\u001b[0m\u001b[0;34m,\u001b[0m \u001b[0mfile_base_name\u001b[0m\u001b[0;34m=\u001b[0m\u001b[0mrow\u001b[0m\u001b[0;34m.\u001b[0m\u001b[0mid\u001b[0m\u001b[0;34m,\u001b[0m \u001b[0myoutube_id\u001b[0m\u001b[0;34m=\u001b[0m\u001b[0mrow\u001b[0m\u001b[0;34m.\u001b[0m\u001b[0mid\u001b[0m\u001b[0;34m,\u001b[0m \u001b[0mstart_time\u001b[0m\u001b[0;34m=\u001b[0m\u001b[0mrow\u001b[0m\u001b[0;34m.\u001b[0m\u001b[0mstart\u001b[0m\u001b[0;34m,\u001b[0m \u001b[0mduration\u001b[0m\u001b[0;34m=\u001b[0m\u001b[0;36m3\u001b[0m\u001b[0;34m)\u001b[0m\u001b[0;34m\u001b[0m\u001b[0;34m\u001b[0m\u001b[0m\n\u001b[0m\u001b[1;32m      6\u001b[0m     \u001b[0;32mexcept\u001b[0m \u001b[0mFileExistsError\u001b[0m \u001b[0;32mas\u001b[0m \u001b[0me\u001b[0m\u001b[0;34m:\u001b[0m\u001b[0;34m\u001b[0m\u001b[0;34m\u001b[0m\u001b[0m\n",
      "\u001b[0;32m~/ml/denoise/download_dataset/video_download.py\u001b[0m in \u001b[0;36mdownload_partial_video_from_youtube\u001b[0;34m(target_dir, file_base_name, youtube_id, start_time, duration, max_height)\u001b[0m\n\u001b[1;32m     82\u001b[0m     result = subprocess.run(\n\u001b[0;32m---> 83\u001b[0;31m         \u001b[0mdownload_cmd_video\u001b[0m\u001b[0;34m,\u001b[0m \u001b[0mcapture_output\u001b[0m\u001b[0;34m=\u001b[0m\u001b[0;32mTrue\u001b[0m\u001b[0;34m,\u001b[0m \u001b[0mshell\u001b[0m\u001b[0;34m=\u001b[0m\u001b[0;32mTrue\u001b[0m\u001b[0;34m,\u001b[0m \u001b[0mencoding\u001b[0m\u001b[0;34m=\u001b[0m\u001b[0;34m\"utf8\"\u001b[0m\u001b[0;34m,\u001b[0m \u001b[0mtimeout\u001b[0m\u001b[0;34m=\u001b[0m\u001b[0;36m10\u001b[0m\u001b[0;34m\u001b[0m\u001b[0;34m\u001b[0m\u001b[0m\n\u001b[0m\u001b[1;32m     84\u001b[0m     )\n",
      "\u001b[0;32m//anaconda3/envs/fastai/lib/python3.7/subprocess.py\u001b[0m in \u001b[0;36mrun\u001b[0;34m(input, capture_output, timeout, check, *popenargs, **kwargs)\u001b[0m\n\u001b[1;32m    478\u001b[0m             raise TimeoutExpired(process.args, timeout, output=stdout,\n\u001b[0;32m--> 479\u001b[0;31m                                  stderr=stderr)\n\u001b[0m\u001b[1;32m    480\u001b[0m         \u001b[0;32mexcept\u001b[0m\u001b[0;34m:\u001b[0m  \u001b[0;31m# Including KeyboardInterrupt, communicate handled that.\u001b[0m\u001b[0;34m\u001b[0m\u001b[0;34m\u001b[0m\u001b[0m\n",
      "\u001b[0;31mTimeoutExpired\u001b[0m: Command 'ffmpeg -ss 0:04:52.666667 -i \"https://r4---sn-25glenes.googlevideo.com/videoplayback?expire=1591229052&ei=HObXXpHzLI6n1gL8tb6gBQ&ip=91.64.210.211&id=o-ACHzhZp1bhIV2K2_dv3hFrGVKj-M9_9mj1AivfCqWUP6&itag=135&aitags=133%2C134%2C135%2C136%2C160%2C242%2C243%2C244%2C247%2C278&source=youtube&requiressl=yes&mh=sg&mm=31%2C29&mn=sn-25glenes%2Csn-4g5e6nsz&ms=au%2Crdu&mv=m&mvi=3&pl=24&initcwndbps=1202500&vprv=1&mime=video%2Fmp4&gir=yes&clen=34014874&dur=427.633&lmt=1380326038197013&mt=1591207420&fvip=4&keepalive=yes&c=WEB&sparams=expire%2Cei%2Cip%2Cid%2Caitags%2Csource%2Crequiressl%2Cvprv%2Cmime%2Cgir%2Cclen%2Cdur%2Clmt&sig=AOq0QJ8wRQIgezEy1TEERU3ZYEvFpkUJ3EQYV-3z-QRKHTVJO0wUExkCIQCp5elaXyJGMtfShV91Z66NNxahnh0lVdmvyUl3l7O8-A%3D%3D&lsparams=mh%2Cmm%2Cmn%2Cms%2Cmv%2Cmvi%2Cpl%2Cinitcwndbps&lsig=AG3C_xAwRQIgFEtWMtMn4RttWhX1msnfx1VxORGZL_jUqNYQ7017IBICIQD0TFJBoqqNhRWV9tlMvPuvwdr6Fy6tNIuU0Z546DmSmA%3D%3D&ratebypass=yes\" -map 0:v -t 0:00:03 -c:v libx264 ../data/k0N4ajzmyEA.mp4' timed out after 10 seconds",
      "\nDuring handling of the above exception, another exception occurred:\n",
      "\u001b[0;31mNameError\u001b[0m                                 Traceback (most recent call last)",
      "\u001b[0;32m<ipython-input-8-2272c3d69729>\u001b[0m in \u001b[0;36m<module>\u001b[0;34m\u001b[0m\n\u001b[1;32m      8\u001b[0m     \u001b[0;32mexcept\u001b[0m \u001b[0mFileNotFoundError\u001b[0m \u001b[0;32mas\u001b[0m \u001b[0me\u001b[0m\u001b[0;34m:\u001b[0m\u001b[0;34m\u001b[0m\u001b[0;34m\u001b[0m\u001b[0m\n\u001b[1;32m      9\u001b[0m         \u001b[0mprint\u001b[0m\u001b[0;34m(\u001b[0m\u001b[0me\u001b[0m\u001b[0;34m)\u001b[0m\u001b[0;34m\u001b[0m\u001b[0;34m\u001b[0m\u001b[0m\n\u001b[0;32m---> 10\u001b[0;31m     \u001b[0;32mexcept\u001b[0m \u001b[0mTimeoutExpired\u001b[0m \u001b[0;32mas\u001b[0m \u001b[0me\u001b[0m\u001b[0;34m:\u001b[0m\u001b[0;34m\u001b[0m\u001b[0;34m\u001b[0m\u001b[0m\n\u001b[0m\u001b[1;32m     11\u001b[0m         \u001b[0mprint\u001b[0m\u001b[0;34m(\u001b[0m\u001b[0me\u001b[0m\u001b[0;34m)\u001b[0m\u001b[0;34m\u001b[0m\u001b[0;34m\u001b[0m\u001b[0m\n",
      "\u001b[0;31mNameError\u001b[0m: name 'TimeoutExpired' is not defined"
     ]
    }
   ],
   "source": [
    "for i, row in df_train.sample(10000).iterrows():\n",
    "    if row.end - row.start < 3:\n",
    "        continue\n",
    "    try:\n",
    "        download_partial_video_from_youtube(str(path), file_base_name=row.id, youtube_id=row.id, start_time=row.start, duration=3)\n",
    "    except FileExistsError as e:\n",
    "        print(e)\n",
    "    except FileNotFoundError as e:\n",
    "        print(e)\n",
    "    except TimeoutExpired as e:\n",
    "        print(e)"
   ]
  },
  {
   "cell_type": "code",
   "execution_count": 6,
   "metadata": {},
   "outputs": [],
   "source": [
    "vids = list(path.iterdir())"
   ]
  },
  {
   "cell_type": "code",
   "execution_count": 17,
   "metadata": {},
   "outputs": [],
   "source": [
    "file = vids[2]"
   ]
  },
  {
   "cell_type": "code",
   "execution_count": 18,
   "metadata": {},
   "outputs": [
    {
     "data": {
      "text/plain": [
       "PosixPath('../data/lZhHLNsi1WI.mp4')"
      ]
     },
     "execution_count": 18,
     "metadata": {},
     "output_type": "execute_result"
    }
   ],
   "source": [
    "file"
   ]
  },
  {
   "cell_type": "code",
   "execution_count": 60,
   "metadata": {},
   "outputs": [],
   "source": [
    "import os\n",
    "from pathlib import Path\n",
    "from typing import Optional, Union\n",
    "\n",
    "from facenet_pytorch import MTCNN, InceptionResnetV1\n",
    "import torch\n"
   ]
  },
  {
   "cell_type": "code",
   "execution_count": 204,
   "metadata": {},
   "outputs": [],
   "source": [
    "class FaceCropper:\n",
    "    \"\"\"\n",
    "    Class that provides utility methods to crop a face out of a video.\n",
    "    \n",
    "    Attributes:\n",
    "        out_dir: directory to save the cropped videos to\n",
    "        num_detect_points: the number of frames for which face detection is performed.\n",
    "        model (torch.Module): a face detection network\n",
    "    \n",
    "    \"\"\"\n",
    "    \n",
    "    def __init__(self, out_dir: Optional[str] = \"./\", num_detect_points:Optional[int]=2, device: Optional[torch.device]=None):\n",
    "        \"\"\"\n",
    "        Constructor of FaceCropper\n",
    "        \n",
    "        Arguments:\n",
    "            out_dir: directory to save the cropped videos to\n",
    "            num_detect_points: the number of frames for which face detection is performed.\n",
    "                Has to have a minimum number of 2.\n",
    "            device: torch device for the model\n",
    "            \n",
    "        \"\"\"\n",
    "        \n",
    "        if device is None:\n",
    "            device = torch.device('cuda:0' if torch.cuda.is_available() else 'cpu')\n",
    "        else:\n",
    "            device = device\n",
    "            \n",
    "        if num_detect_points < 2:\n",
    "            raise ValueError(\"Face detection has to be performed for at least two frames in order to interpolate its position\")\n",
    "        \n",
    "        self.out_dir = out_dir\n",
    "        self.num_detect_points = num_detect_points\n",
    "        self.model = MTCNN(keep_all=True, device=device)\n",
    "            \n",
    "    \n",
    "    def cut_face_from_video(self, filename: Union[str, Path]):\n",
    "        \"\"\"\n",
    "        TODO WIP\n",
    "        \"\"\"\n",
    "        \n",
    "        filename = Path(filename)\n",
    "        \n",
    "        # Load video\n",
    "        videodata = skvideo.io.vread(filename)\n",
    "        \n",
    "        frame_count = len(videodata)\n",
    "        \n",
    "        face_detect_frame_idxs = np.linspace(0, frame_count - 1, min(self.num_detect_points, frame_count), dtype=np.int)\n",
    "        \n",
    "        # Detect faces in first and last frame\n",
    "        boxes, _ = self.model.detect(videodata[face_detect_frame_idxs])\n",
    "        for b in boxes:\n",
    "            # Make sure that there is exactly one face detected\n",
    "            if b is None or len(b) != 1:\n",
    "                return 1\n",
    "        \n",
    "        \n",
    "        # Interpolate center coordinates in between two frames for\n",
    "        # which face detection has been performed\n",
    "        center_coords_interp = []\n",
    "        \n",
    "        for box_start, box_end, interp_start_idx, interp_end_idx in zip(boxes[:-1], boxes[1:], face_detect_frame_idxs[:-1], face_detect_frame_idxs[1:]):\n",
    "\n",
    "            # We select index 0 because we already checked\n",
    "            coords_start = self.get_center(box_start[0])\n",
    "            coords_end = self.get_center(box_end[0])\n",
    "            \n",
    "            num_frames = interp_end_idx - interp_start_idx\n",
    "            \n",
    "            center_coords_interp.extend(self.interpolate_coords(coords_start, coords_end, num_frames))\n",
    "        \n",
    "        # Determine height and width from the face detected in the first frame\n",
    "        height, width = self.get_height_width(boxes[0][0])\n",
    "        cropped_frames = np.zeros((len(videodata), height, width, 3), dtype=np.int)\n",
    "        \n",
    "        _, video_height, video_width, _ = videodata.shape\n",
    "\n",
    "        # Crop the faces out of the frames using the interpolated center coordinates\n",
    "        # and the height and widht determined from the first frame\n",
    "        for frame_idx, (frame, center) in enumerate(zip(videodata, center_coords_interp)):\n",
    "            upper = center[0] - height // 2\n",
    "            lower = upper + height\n",
    "            left = center[1] - width // 2\n",
    "            right = left + width\n",
    "            \n",
    "            #pdb.set_trace()\n",
    "\n",
    "            cropped_face = self.pad_crop(\n",
    "                frame,\n",
    "                upper,\n",
    "                lower,\n",
    "                left,\n",
    "                right,\n",
    "                video_height,video_width,\n",
    "                filename\n",
    "            )\n",
    "\n",
    "            cropped_frames[frame_idx, ...] = cropped_face\n",
    "\n",
    "        skvideo.io.vwrite(os.path.join(self.out_dir, f\"cropped_{filename.name}\"), cropped_frames)\n",
    "        return 0\n",
    "\n",
    "    @staticmethod\n",
    "    def interpolate_coords(coords_start: Tuple[int], coords_end: Tuple[int], total_steps, step_size=1) -> List[Tuple[int]]:\n",
    "        \"\"\"\n",
    "        TODO WIP\n",
    "        \"\"\"\n",
    "        t = [0, total_steps]\n",
    "        x = [coords_start[1], coords_end[1]]\n",
    "        y = [coords_start[0], coords_end[0]]\n",
    "\n",
    "        x_interp = np.interp(np.arange(0, total_steps, step_size), t, x)\n",
    "        y_interp = np.interp(np.arange(0, total_steps, step_size), t, y)\n",
    "\n",
    "        return [(int(y), int(x)) for x, y in zip(x_interp, y_interp)]\n",
    "    \n",
    "    @staticmethod\n",
    "    def pad_crop(frame: np.array, upper, lower, left, right, frame_height, frame_width, filename):\n",
    "        \n",
    "        delta_upper = abs(min(0, upper))\n",
    "        delta_lower = max(0, lower - frame_height)\n",
    "        delta_left = abs(min(0, left))\n",
    "        delta_right = max(0, right - frame_width)\n",
    "        \n",
    "        # TODO remove this after debugging\n",
    "        if delta_upper > 0 or delta_lower > 0 or delta_left > 0 or delta_right > 0:\n",
    "            print(filename)\n",
    "        \n",
    "        cropped_face = frame[upper:lower, left:right]\n",
    "        \n",
    "        return np.pad(\n",
    "            cropped_face,\n",
    "            ((delta_upper, delta_lower), (delta_left, delta_right), (0, 0)),\n",
    "            'constant', constant_values=0\n",
    "        )\n",
    "\n",
    "    @staticmethod\n",
    "    def get_center(coords: np.array):\n",
    "        \"\"\"\n",
    "        TODO WIP\n",
    "        \"\"\"\n",
    "        if len(coords) != 4:\n",
    "            raise ValueError(\"This should have been 4 coordinates\")\n",
    "        \n",
    "        left = coords[0]\n",
    "        right = coords[2]\n",
    "        lower = coords[1]\n",
    "        upper = coords[3]\n",
    "\n",
    "        return int((lower + upper) // 2), int((left + right) // 2)\n",
    "\n",
    "    @staticmethod\n",
    "    def get_height_width(coords: np.array):\n",
    "        \"\"\"\n",
    "        TODO WIP\n",
    "        \"\"\"\n",
    "        if len(coords) != 4:\n",
    "            raise ValueError(\"This should have been 4 coordinates\")\n",
    "            \n",
    "        left = coords[0]\n",
    "        right = coords[2]\n",
    "        lower = coords[1]\n",
    "        upper = coords[3]\n",
    "\n",
    "        return int(upper - lower), int(right - left)"
   ]
  },
  {
   "cell_type": "code",
   "execution_count": 205,
   "metadata": {},
   "outputs": [],
   "source": [
    "cutter = FaceCropper(num_detect_points=10)"
   ]
  },
  {
   "cell_type": "code",
   "execution_count": 186,
   "metadata": {},
   "outputs": [],
   "source": [
    "from glob import glob\n",
    "from functools import partial"
   ]
  },
  {
   "cell_type": "code",
   "execution_count": 187,
   "metadata": {},
   "outputs": [],
   "source": [
    "files = glob(\"../data/*.mp4\")"
   ]
  },
  {
   "cell_type": "code",
   "execution_count": 206,
   "metadata": {},
   "outputs": [
    {
     "name": "stdout",
     "output_type": "stream",
     "text": [
      "../data/UoW-O1khURA.mp4\n"
     ]
    },
    {
     "ename": "ValueError",
     "evalue": "could not broadcast input array from shape (90,162,3) into shape (230,162,3)",
     "output_type": "error",
     "traceback": [
      "\u001b[0;31m---------------------------------------------------------------------------\u001b[0m",
      "\u001b[0;31mValueError\u001b[0m                                Traceback (most recent call last)",
      "\u001b[0;32m<ipython-input-206-d62aff5ba464>\u001b[0m in \u001b[0;36m<module>\u001b[0;34m\u001b[0m\n\u001b[0;32m----> 1\u001b[0;31m \u001b[0mcutter\u001b[0m\u001b[0;34m.\u001b[0m\u001b[0mcut_face_from_video\u001b[0m\u001b[0;34m(\u001b[0m\u001b[0;34m\"../data/UoW-O1khURA.mp4\"\u001b[0m\u001b[0;34m)\u001b[0m\u001b[0;34m\u001b[0m\u001b[0;34m\u001b[0m\u001b[0m\n\u001b[0m",
      "\u001b[0;32m<ipython-input-204-ddf5bbdc920c>\u001b[0m in \u001b[0;36mcut_face_from_video\u001b[0;34m(self, filename)\u001b[0m\n\u001b[1;32m     97\u001b[0m             )\n\u001b[1;32m     98\u001b[0m \u001b[0;34m\u001b[0m\u001b[0m\n\u001b[0;32m---> 99\u001b[0;31m             \u001b[0mcropped_frames\u001b[0m\u001b[0;34m[\u001b[0m\u001b[0mframe_idx\u001b[0m\u001b[0;34m,\u001b[0m \u001b[0;34m...\u001b[0m\u001b[0;34m]\u001b[0m \u001b[0;34m=\u001b[0m \u001b[0mcropped_face\u001b[0m\u001b[0;34m\u001b[0m\u001b[0;34m\u001b[0m\u001b[0m\n\u001b[0m\u001b[1;32m    100\u001b[0m \u001b[0;34m\u001b[0m\u001b[0m\n\u001b[1;32m    101\u001b[0m         \u001b[0mskvideo\u001b[0m\u001b[0;34m.\u001b[0m\u001b[0mio\u001b[0m\u001b[0;34m.\u001b[0m\u001b[0mvwrite\u001b[0m\u001b[0;34m(\u001b[0m\u001b[0mos\u001b[0m\u001b[0;34m.\u001b[0m\u001b[0mpath\u001b[0m\u001b[0;34m.\u001b[0m\u001b[0mjoin\u001b[0m\u001b[0;34m(\u001b[0m\u001b[0mself\u001b[0m\u001b[0;34m.\u001b[0m\u001b[0mout_dir\u001b[0m\u001b[0;34m,\u001b[0m \u001b[0;34mf\"cropped_{filename.name}\"\u001b[0m\u001b[0;34m)\u001b[0m\u001b[0;34m,\u001b[0m \u001b[0mcropped_frames\u001b[0m\u001b[0;34m)\u001b[0m\u001b[0;34m\u001b[0m\u001b[0;34m\u001b[0m\u001b[0m\n",
      "\u001b[0;31mValueError\u001b[0m: could not broadcast input array from shape (90,162,3) into shape (230,162,3)"
     ]
    }
   ],
   "source": [
    "cutter.cut_face_from_video(\"../data/UoW-O1khURA.mp4\")"
   ]
  },
  {
   "cell_type": "code",
   "execution_count": null,
   "metadata": {},
   "outputs": [],
   "source": []
  },
  {
   "cell_type": "code",
   "execution_count": null,
   "metadata": {},
   "outputs": [],
   "source": []
  },
  {
   "cell_type": "code",
   "execution_count": 188,
   "metadata": {},
   "outputs": [
    {
     "name": "stdout",
     "output_type": "stream",
     "text": [
      "../data/_rl4qZPf4ac.mp4\n",
      "../data/_rl4qZPf4ac.mp4\n",
      "../data/_rl4qZPf4ac.mp4\n",
      "../data/_rl4qZPf4ac.mp4\n",
      "../data/_rl4qZPf4ac.mp4\n",
      "../data/_rl4qZPf4ac.mp4\n",
      "../data/_rl4qZPf4ac.mp4\n",
      "../data/_rl4qZPf4ac.mp4\n",
      "../data/_rl4qZPf4ac.mp4\n",
      "../data/_rl4qZPf4ac.mp4\n",
      "../data/_rl4qZPf4ac.mp4\n",
      "../data/_rl4qZPf4ac.mp4\n",
      "../data/_rl4qZPf4ac.mp4\n",
      "../data/_rl4qZPf4ac.mp4\n",
      "../data/_rl4qZPf4ac.mp4\n",
      "../data/_rl4qZPf4ac.mp4\n",
      "../data/_rl4qZPf4ac.mp4\n",
      "../data/_rl4qZPf4ac.mp4\n",
      "../data/_rl4qZPf4ac.mp4\n",
      "../data/_rl4qZPf4ac.mp4\n",
      "../data/_rl4qZPf4ac.mp4\n",
      "../data/_rl4qZPf4ac.mp4\n",
      "../data/_rl4qZPf4ac.mp4\n",
      "../data/_rl4qZPf4ac.mp4\n",
      "../data/_rl4qZPf4ac.mp4\n",
      "../data/_rl4qZPf4ac.mp4\n",
      "../data/_rl4qZPf4ac.mp4\n",
      "../data/_rl4qZPf4ac.mp4\n",
      "../data/_rl4qZPf4ac.mp4\n",
      "../data/_rl4qZPf4ac.mp4\n",
      "../data/_rl4qZPf4ac.mp4\n",
      "../data/_rl4qZPf4ac.mp4\n",
      "../data/_rl4qZPf4ac.mp4\n",
      "../data/_rl4qZPf4ac.mp4\n",
      "../data/_rl4qZPf4ac.mp4\n",
      "../data/_rl4qZPf4ac.mp4\n",
      "../data/UoW-O1khURA.mp4\n"
     ]
    },
    {
     "ename": "ValueError",
     "evalue": "could not broadcast input array from shape (90,162,3) into shape (230,162,3)",
     "output_type": "error",
     "traceback": [
      "\u001b[0;31m---------------------------------------------------------------------------\u001b[0m",
      "\u001b[0;31mValueError\u001b[0m                                Traceback (most recent call last)",
      "\u001b[0;32m<ipython-input-188-0085f7fff0c2>\u001b[0m in \u001b[0;36m<module>\u001b[0;34m\u001b[0m\n\u001b[0;32m----> 1\u001b[0;31m \u001b[0mlist\u001b[0m\u001b[0;34m(\u001b[0m\u001b[0mmap\u001b[0m\u001b[0;34m(\u001b[0m\u001b[0mcutter\u001b[0m\u001b[0;34m.\u001b[0m\u001b[0mcut_face_from_video\u001b[0m\u001b[0;34m,\u001b[0m \u001b[0mfiles\u001b[0m\u001b[0;34m)\u001b[0m\u001b[0;34m)\u001b[0m\u001b[0;34m\u001b[0m\u001b[0;34m\u001b[0m\u001b[0m\n\u001b[0m",
      "\u001b[0;32m<ipython-input-184-ee53f64987fb>\u001b[0m in \u001b[0;36mcut_face_from_video\u001b[0;34m(self, filename)\u001b[0m\n\u001b[1;32m     95\u001b[0m             )\n\u001b[1;32m     96\u001b[0m \u001b[0;34m\u001b[0m\u001b[0m\n\u001b[0;32m---> 97\u001b[0;31m             \u001b[0mcropped_frames\u001b[0m\u001b[0;34m[\u001b[0m\u001b[0mframe_idx\u001b[0m\u001b[0;34m,\u001b[0m \u001b[0;34m...\u001b[0m\u001b[0;34m]\u001b[0m \u001b[0;34m=\u001b[0m \u001b[0mcropped_face\u001b[0m\u001b[0;34m\u001b[0m\u001b[0;34m\u001b[0m\u001b[0m\n\u001b[0m\u001b[1;32m     98\u001b[0m \u001b[0;34m\u001b[0m\u001b[0m\n\u001b[1;32m     99\u001b[0m         \u001b[0mskvideo\u001b[0m\u001b[0;34m.\u001b[0m\u001b[0mio\u001b[0m\u001b[0;34m.\u001b[0m\u001b[0mvwrite\u001b[0m\u001b[0;34m(\u001b[0m\u001b[0mos\u001b[0m\u001b[0;34m.\u001b[0m\u001b[0mpath\u001b[0m\u001b[0;34m.\u001b[0m\u001b[0mjoin\u001b[0m\u001b[0;34m(\u001b[0m\u001b[0mself\u001b[0m\u001b[0;34m.\u001b[0m\u001b[0mout_dir\u001b[0m\u001b[0;34m,\u001b[0m \u001b[0;34mf\"cropped_{filename.name}\"\u001b[0m\u001b[0;34m)\u001b[0m\u001b[0;34m,\u001b[0m \u001b[0mcropped_frames\u001b[0m\u001b[0;34m)\u001b[0m\u001b[0;34m\u001b[0m\u001b[0;34m\u001b[0m\u001b[0m\n",
      "\u001b[0;31mValueError\u001b[0m: could not broadcast input array from shape (90,162,3) into shape (230,162,3)"
     ]
    }
   ],
   "source": [
    "list(map(cutter.cut_face_from_video, files))"
   ]
  },
  {
   "cell_type": "code",
   "execution_count": 150,
   "metadata": {},
   "outputs": [
    {
     "name": "stdout",
     "output_type": "stream",
     "text": [
      "> \u001b[0;32m<ipython-input-136-f0b236fa5909>\u001b[0m(86)\u001b[0;36mcut_face_from_video\u001b[0;34m()\u001b[0m\n",
      "\u001b[0;32m     84 \u001b[0;31m            \u001b[0mright\u001b[0m \u001b[0;34m=\u001b[0m \u001b[0mleft\u001b[0m \u001b[0;34m+\u001b[0m \u001b[0mwidth\u001b[0m\u001b[0;34m\u001b[0m\u001b[0;34m\u001b[0m\u001b[0m\n",
      "\u001b[0m\u001b[0;32m     85 \u001b[0;31m\u001b[0;34m\u001b[0m\u001b[0m\n",
      "\u001b[0m\u001b[0;32m---> 86 \u001b[0;31m            \u001b[0mcropped_frames\u001b[0m\u001b[0;34m[\u001b[0m\u001b[0mframe_idx\u001b[0m\u001b[0;34m,\u001b[0m \u001b[0;34m...\u001b[0m\u001b[0;34m]\u001b[0m \u001b[0;34m=\u001b[0m \u001b[0mframe\u001b[0m\u001b[0;34m[\u001b[0m\u001b[0mupper\u001b[0m\u001b[0;34m:\u001b[0m\u001b[0mlower\u001b[0m\u001b[0;34m,\u001b[0m \u001b[0mleft\u001b[0m\u001b[0;34m:\u001b[0m\u001b[0mright\u001b[0m\u001b[0;34m]\u001b[0m\u001b[0;34m\u001b[0m\u001b[0;34m\u001b[0m\u001b[0m\n",
      "\u001b[0m\u001b[0;32m     87 \u001b[0;31m\u001b[0;34m\u001b[0m\u001b[0m\n",
      "\u001b[0m\u001b[0;32m     88 \u001b[0;31m        \u001b[0mskvideo\u001b[0m\u001b[0;34m.\u001b[0m\u001b[0mio\u001b[0m\u001b[0;34m.\u001b[0m\u001b[0mvwrite\u001b[0m\u001b[0;34m(\u001b[0m\u001b[0mos\u001b[0m\u001b[0;34m.\u001b[0m\u001b[0mpath\u001b[0m\u001b[0;34m.\u001b[0m\u001b[0mjoin\u001b[0m\u001b[0;34m(\u001b[0m\u001b[0mself\u001b[0m\u001b[0;34m.\u001b[0m\u001b[0mout_dir\u001b[0m\u001b[0;34m,\u001b[0m \u001b[0;34mf\"cropped_{filename.name}\"\u001b[0m\u001b[0;34m)\u001b[0m\u001b[0;34m,\u001b[0m \u001b[0mcropped_frames\u001b[0m\u001b[0;34m)\u001b[0m\u001b[0;34m\u001b[0m\u001b[0;34m\u001b[0m\u001b[0m\n",
      "\u001b[0m\n",
      "ipdb> len(videodata)\n",
      "75\n",
      "ipdb> len(cropped_frames)\n",
      "75\n",
      "ipdb> filename\n",
      "PosixPath('../data/_rl4qZPf4ac.mp4')\n",
      "ipdb> cropped_frames.shape\n",
      "(75, 385, 280, 3)\n",
      "ipdb> q\n"
     ]
    }
   ],
   "source": [
    "%debug"
   ]
  },
  {
   "cell_type": "code",
   "execution_count": null,
   "metadata": {},
   "outputs": [],
   "source": []
  }
 ],
 "metadata": {
  "kernelspec": {
   "display_name": "Python (fastai)",
   "language": "python",
   "name": "fastai"
  },
  "language_info": {
   "codemirror_mode": {
    "name": "ipython",
    "version": 3
   },
   "file_extension": ".py",
   "mimetype": "text/x-python",
   "name": "python",
   "nbconvert_exporter": "python",
   "pygments_lexer": "ipython3",
   "version": "3.7.4"
  }
 },
 "nbformat": 4,
 "nbformat_minor": 2
}
